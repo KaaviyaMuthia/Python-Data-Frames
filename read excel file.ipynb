{
 "cells": [
  {
   "cell_type": "code",
   "execution_count": 5,
   "id": "0a55c78a",
   "metadata": {},
   "outputs": [
    {
     "name": "stdout",
     "output_type": "stream",
     "text": [
      "   Unnamed: 0   a   b   c\n",
      "0           1  11  12  13\n",
      "1           2  21  22  23\n",
      "2           3  31  32  33\n"
     ]
    }
   ],
   "source": [
    "# read excel file\n",
    "import pandas as pd\n",
    "\n",
    "df = pd.read_excel(\"C:/Users/kaavi/OneDrive/Documents/sample.xlsx\")\n",
    "\n",
    "print(df)"
   ]
  },
  {
   "cell_type": "code",
   "execution_count": 7,
   "id": "cd4a4eed",
   "metadata": {},
   "outputs": [
    {
     "name": "stdout",
     "output_type": "stream",
     "text": [
      "  Unnamed: 0   a   b\n",
      "0        one  11  30\n",
      "1        two  12  31\n",
      "2      three  13  32\n"
     ]
    }
   ],
   "source": [
    "# read sheet2\n",
    "df_sheet2=pd.read_excel(\"C:/Users/kaavi/OneDrive/Documents/sample.xlsx\",sheet_name='Sheet2')\n",
    "print(df_sheet2)"
   ]
  },
  {
   "cell_type": "code",
   "execution_count": 11,
   "id": "259baeba",
   "metadata": {},
   "outputs": [
    {
     "name": "stdout",
     "output_type": "stream",
     "text": [
      "{'Sheet1':    Unnamed: 0   a   b   c\n",
      "0           1  11  12  13\n",
      "1           2  21  22  23\n",
      "2           3  31  32  33, 'Sheet2':   Unnamed: 0   a   b\n",
      "0        one  11  30\n",
      "1        two  12  31\n",
      "2      three  13  32}\n"
     ]
    }
   ],
   "source": [
    "# read all sheets\n",
    "df_sheet_all=pd.read_excel(\"C:/Users/kaavi/OneDrive/Documents/sample.xlsx\",sheet_name=None)\n",
    "print(df_sheet_all)"
   ]
  }
 ],
 "metadata": {
  "kernelspec": {
   "display_name": "Python 3",
   "language": "python",
   "name": "python3"
  },
  "language_info": {
   "codemirror_mode": {
    "name": "ipython",
    "version": 3
   },
   "file_extension": ".py",
   "mimetype": "text/x-python",
   "name": "python",
   "nbconvert_exporter": "python",
   "pygments_lexer": "ipython3",
   "version": "3.8.8"
  }
 },
 "nbformat": 4,
 "nbformat_minor": 5
}
