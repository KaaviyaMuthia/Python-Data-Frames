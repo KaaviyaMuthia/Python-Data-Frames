{
 "cells": [
  {
   "cell_type": "code",
   "execution_count": 5,
   "id": "428381c6",
   "metadata": {},
   "outputs": [
    {
     "name": "stdout",
     "output_type": "stream",
     "text": [
      "Nya\n",
      "~~~~~~\n",
      "age      26\n",
      "state    NJ\n",
      "point    92\n",
      "Name: Nya, dtype: object\n",
      "------\n",
      "Jay\n",
      "~~~~~~\n",
      "age      30\n",
      "state    NJ\n",
      "point    89\n",
      "Name: Jay, dtype: object\n",
      "------\n",
      "Lloyd\n",
      "~~~~~~\n",
      "age      21\n",
      "state    NJ\n",
      "point    74\n",
      "Name: Lloyd, dtype: object\n",
      "------\n"
     ]
    }
   ],
   "source": [
    "import pandas as pd\n",
    "\n",
    "df = pd.DataFrame({'age': [26,30,21], 'state': ['NJ', 'NJ', 'NJ'], 'point': [92,89,74]},\n",
    "                  index=['Nya', 'Jay','Lloyd'])\n",
    "for index, row in df.iterrows():\n",
    "    print(index)\n",
    "    print('~~~~~~')\n",
    "\n",
    "    print(row)\n",
    "    print('------')"
   ]
  },
  {
   "cell_type": "code",
   "execution_count": null,
   "id": "073d2be4",
   "metadata": {},
   "outputs": [],
   "source": []
  }
 ],
 "metadata": {
  "kernelspec": {
   "display_name": "Python 3",
   "language": "python",
   "name": "python3"
  },
  "language_info": {
   "codemirror_mode": {
    "name": "ipython",
    "version": 3
   },
   "file_extension": ".py",
   "mimetype": "text/x-python",
   "name": "python",
   "nbconvert_exporter": "python",
   "pygments_lexer": "ipython3",
   "version": "3.8.8"
  }
 },
 "nbformat": 4,
 "nbformat_minor": 5
}
